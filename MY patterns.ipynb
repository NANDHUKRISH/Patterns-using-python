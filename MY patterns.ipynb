{
 "cells": [
  {
   "cell_type": "markdown",
   "id": "1cdc43a8",
   "metadata": {},
   "source": [
    "## LOVE pattern"
   ]
  },
  {
   "cell_type": "code",
   "execution_count": 56,
   "id": "bf3da37d",
   "metadata": {},
   "outputs": [
    {
     "name": "stdout",
     "output_type": "stream",
     "text": [
      "  * *   * *   \n",
      "*     *     * \n",
      "*           * \n",
      "  *       *   \n",
      "    *   *     \n",
      "      *       \n"
     ]
    }
   ],
   "source": [
    "for i in range(6):\n",
    "    for j in range(7):\n",
    "        if ((i==0 and j%3!=0) or (i==1 and j%3==0) or (i-j==2) or (i+j==8)):\n",
    "            print(\"*\",end=\" \")\n",
    "        else:\n",
    "            print(\" \",end=\" \")\n",
    "    print()"
   ]
  },
  {
   "cell_type": "markdown",
   "id": "4a619c64",
   "metadata": {},
   "source": [
    "## love pattern 2"
   ]
  },
  {
   "cell_type": "code",
   "execution_count": 51,
   "id": "e34598e9",
   "metadata": {},
   "outputs": [
    {
     "name": "stdout",
     "output_type": "stream",
     "text": [
      "6\n",
      "  *     * \n",
      " * *   * * \n",
      "* * * * * * \n",
      "* * * * * * \n",
      " * * * * * \n",
      "  * * * * \n",
      "   * * * \n",
      "    * * \n",
      "     * \n"
     ]
    }
   ],
   "source": [
    "num=int(input())\n",
    "n=num//2\n",
    "for i in range(n):\n",
    "    for s in range(n-i-1):\n",
    "        print(\" \",end=\"\")\n",
    "    for j in range(i+1):\n",
    "        print(\"*\",end=\" \")\n",
    "    if num%2==0:\n",
    "        for s in range(2*(n-i-1)):\n",
    "            print(\" \",end=\"\")\n",
    "    else:\n",
    "        for s in range(2*(n-i-1)+1):\n",
    "            print(\" \",end=\"\")\n",
    "    for j in range(i+1):\n",
    "        print(\"*\",end=\" \")\n",
    "        \n",
    "    print()\n",
    "\n",
    "for i in range(num):\n",
    "    for s in range(i):\n",
    "        print(\" \",end=\"\")\n",
    "    for j in range(num,i,-1):\n",
    "        print(\"*\",end=\" \")\n",
    "    print()\n",
    "        "
   ]
  },
  {
   "cell_type": "markdown",
   "id": "55281021",
   "metadata": {},
   "source": [
    "## Name inside Love pattern"
   ]
  },
  {
   "cell_type": "code",
   "execution_count": 2,
   "id": "ccdb861a",
   "metadata": {},
   "outputs": [
    {
     "name": "stdout",
     "output_type": "stream",
     "text": [
      "Enter no. of rows:10\n",
      "Enter your name:NANDHU\n",
      "\n",
      "    *         * \n",
      "   * *       * * \n",
      "  * * *     * * * \n",
      " * * * *   * * * * \n",
      "* * * * * * * * * * \n",
      "* * N A N D H U * *\n",
      "* * * * * * * * * * \n",
      " * * * * * * * * * \n",
      "  * * * * * * * * \n",
      "   * * * * * * * \n",
      "    * * * * * * \n",
      "     * * * * * \n",
      "      * * * * \n",
      "       * * * \n",
      "        * * \n",
      "         * \n"
     ]
    }
   ],
   "source": [
    "num=int(input(\"Enter no. of rows:\"))\n",
    "name=input(\"Enter your name:\")\n",
    "l=len(name)\n",
    "if l>num:\n",
    "    print()\n",
    "    print(\"Name want to be in the limit of no. of rows\")\n",
    "    print()\n",
    "    \n",
    "n=num//2\n",
    "print()\n",
    "for i in range(n):\n",
    "    for s in range(n-i-1):\n",
    "        print(\" \",end=\"\")\n",
    "    for j in range(i+1):\n",
    "        print(\"*\",end=\" \")\n",
    "    if num%2==0:\n",
    "        for s in range(2*(n-i-1)):\n",
    "            print(\" \",end=\"\")\n",
    "    else:\n",
    "        for s in range(2*(n-i-1)+1):\n",
    "            print(\" \",end=\"\")\n",
    "    for j in range(i+1):\n",
    "        print(\"*\",end=\" \")\n",
    "        \n",
    "    print()\n",
    "    \n",
    "# for printing name 4 conditions are there \n",
    "# 1.no.of rows even and length even\n",
    "# 2.no.of rows even and length odd\n",
    "# 3.no.of rows odd and length even\n",
    "# 4.no.of rows odd and length odd\n",
    "    \n",
    "if num%2==0 and l<=num:\n",
    "    if l%2==0:\n",
    "        print(\"* \"*((num-l)//2) +  \" \".join(name) +  \" *\"*((num-l)//2)) # 1.no.of rows even and length even\n",
    "    elif l==num-1:\n",
    "        print(\"* \" +  \" \".join(name) + \"*\")\n",
    "    else:\n",
    "        print(\"* \"*((num-l)//2) +  \" \".join(name) +  \" *\"*(((num-l)//2)+1)) # 2.no.of rows even and length odd\n",
    "elif num%2!=0 and l<=num:\n",
    "    if l%2==0:\n",
    "        print(\"* \"*((num-l)//2) +  \" \".join(name) +  \" *\"*(((num-l)//2)+1))  # 3.no.of rows odd and length even\n",
    "    else:\n",
    "        print(\"* \"*((num-l)//2) +  \" \".join(name) +  \" *\"*((num-l)//2)) # 4.no.of rows odd and length odd\n",
    "else:\n",
    "    pass\n",
    "    \n",
    "for i in range(num):\n",
    "    for s in range(i):\n",
    "        print(\" \",end=\"\")\n",
    "    for j in range(num,i,-1):\n",
    "        print(\"*\",end=\" \")\n",
    "    print()"
   ]
  },
  {
   "cell_type": "markdown",
   "id": "0d102f5b",
   "metadata": {},
   "source": [
    "## STAR PATTERN"
   ]
  },
  {
   "cell_type": "code",
   "execution_count": 126,
   "id": "70865d3d",
   "metadata": {},
   "outputs": [
    {
     "name": "stdout",
     "output_type": "stream",
     "text": [
      "Number of rows:10\n",
      "       *       \n",
      "      * *      \n",
      "***************\n",
      " *  *     *  * \n",
      "  **       **  \n",
      "  **       **  \n",
      " *  *     *  * \n",
      "***************\n",
      "      * *      \n",
      "       *       \n"
     ]
    }
   ],
   "source": [
    "# to make star if (row=5,col=5) (n=6,m=7) (n=7,m=9) (n=8,m=11) (n=9,m=13) (n=10,m=15) (n=11,m=17)  [ m=n+(n-5)]   \n",
    "# below 5 we cant print star\n",
    "n=int(input(\"Number of rows:\")) \n",
    "m=n+n-5\n",
    "if n>=5:\n",
    "    for i in range(n):\n",
    "        for j in range(m):\n",
    "            if (i==2 or i==(n-3) or i+j==(n-3) or j-i==(n-3) or i-j==2 or i+j==(m+1)):\n",
    "                print(\"*\",end=\"\")\n",
    "            else: \n",
    "                print(\" \",end=\"\")\n",
    "        print()"
   ]
  },
  {
   "cell_type": "markdown",
   "id": "1d233121",
   "metadata": {},
   "source": [
    "## PRINTING STRING PYTHON"
   ]
  },
  {
   "cell_type": "code",
   "execution_count": 141,
   "id": "4377cb57",
   "metadata": {},
   "outputs": [
    {
     "name": "stdout",
     "output_type": "stream",
     "text": [
      "Enter string:python\n",
      "     p\n",
      "    py\n",
      "   pyt\n",
      "  pyth\n",
      " pytho\n",
      "python\n"
     ]
    }
   ],
   "source": [
    "str=input(\"Enter string:\")\n",
    "l=len(str)\n",
    "for i in range(1,l+1,1):\n",
    "    for s in range(1,l-i+1,1):\n",
    "        print(\" \",end=\"\")\n",
    "    for j in range(1,i+1,1):\n",
    "        print(str[j-1],end=\"\")\n",
    "    print()"
   ]
  },
  {
   "cell_type": "code",
   "execution_count": 140,
   "id": "18ec7614",
   "metadata": {},
   "outputs": [
    {
     "name": "stdout",
     "output_type": "stream",
     "text": [
      "Enter string:python\n",
      "     p \n",
      "    p y \n",
      "   p y t \n",
      "  p y t h \n",
      " p y t h o \n",
      "p y t h o n \n"
     ]
    }
   ],
   "source": [
    "str=input(\"Enter string:\")\n",
    "l=len(str)\n",
    "for i in range(1,l+1,1):\n",
    "    for s in range(1,l-i+1,1):\n",
    "        print(\" \",end=\"\")\n",
    "    for j in range(1,i+1,1):\n",
    "        print(str[j-1],end=\" \")\n",
    "    print()"
   ]
  },
  {
   "cell_type": "code",
   "execution_count": 133,
   "id": "cbee95ae",
   "metadata": {},
   "outputs": [
    {
     "name": "stdout",
     "output_type": "stream",
     "text": [
      "Enter string:python\n",
      "     p\n",
      "    yy\n",
      "   ttt\n",
      "  hhhh\n",
      " ooooo\n",
      "nnnnnn\n"
     ]
    }
   ],
   "source": [
    "str=input(\"Enter string:\")\n",
    "l=len(str)\n",
    "for i in range(1,l+1,1):\n",
    "    for s in range(1,l-i+1,1):\n",
    "        print(\" \",end=\"\")\n",
    "    for j in range(1,i+1,1):\n",
    "        print(str[i-1],end=\"\")\n",
    "    print()"
   ]
  },
  {
   "cell_type": "code",
   "execution_count": 143,
   "id": "a054c08c",
   "metadata": {},
   "outputs": [
    {
     "name": "stdout",
     "output_type": "stream",
     "text": [
      "Enter string:python\n",
      "     p \n",
      "    y y \n",
      "   t t t \n",
      "  h h h h \n",
      " o o o o o \n",
      "n n n n n n \n"
     ]
    }
   ],
   "source": [
    "str=input(\"Enter string:\")\n",
    "l=len(str)\n",
    "for i in range(1,l+1,1):\n",
    "    for s in range(1,l-i+1,1):\n",
    "        print(\" \",end=\"\")\n",
    "    for j in range(1,i+1,1):\n",
    "        print(str[i-1],end=\" \")\n",
    "    print()"
   ]
  },
  {
   "cell_type": "code",
   "execution_count": 135,
   "id": "4b1a735a",
   "metadata": {},
   "outputs": [
    {
     "name": "stdout",
     "output_type": "stream",
     "text": [
      "Enter string:nand\n",
      "n\n",
      "na\n",
      "nan\n",
      "nand\n"
     ]
    }
   ],
   "source": [
    "str=input(\"Enter string:\")\n",
    "l=len(str)\n",
    "for i in range(1,l+1,1):\n",
    "    for j in range(1,i+1,1):\n",
    "        print(str[j-1],end=\"\")\n",
    "    print()"
   ]
  },
  {
   "cell_type": "code",
   "execution_count": 155,
   "id": "d4cbeac2",
   "metadata": {},
   "outputs": [
    {
     "name": "stdout",
     "output_type": "stream",
     "text": [
      "Enter string:python\n",
      "p y t h o n \n",
      "p y t h o \n",
      "p y t h \n",
      "p y t \n",
      "p y \n",
      "p \n"
     ]
    }
   ],
   "source": [
    "str=input(\"Enter string:\")\n",
    "l=len(str)\n",
    "for i in range(1,l+1,1):\n",
    "    for j in range(1,l-i+2,1):\n",
    "        print(str[j-1],end=\" \")\n",
    "    print()"
   ]
  },
  {
   "cell_type": "code",
   "execution_count": 157,
   "id": "22f35c1f",
   "metadata": {},
   "outputs": [
    {
     "name": "stdout",
     "output_type": "stream",
     "text": [
      "Enter string:python\n",
      "python\n",
      " pytho\n",
      "  pyth\n",
      "   pyt\n",
      "    py\n",
      "     p\n"
     ]
    }
   ],
   "source": [
    "str=input(\"Enter string:\")\n",
    "l=len(str)\n",
    "for i in range(1,l+1,1):\n",
    "    for s in range(1,i,1):\n",
    "        print(\" \",end=\"\")\n",
    "    for j in range(1,l-i+2,1):\n",
    "        print(str[j-1],end=\"\")\n",
    "    print()"
   ]
  },
  {
   "cell_type": "code",
   "execution_count": 169,
   "id": "7903e27c",
   "metadata": {},
   "outputs": [
    {
     "name": "stdout",
     "output_type": "stream",
     "text": [
      "Enter string:python\n",
      "nohtyp\n",
      " ohtyp\n",
      "  htyp\n",
      "   typ\n",
      "    yp\n",
      "     p\n"
     ]
    }
   ],
   "source": [
    "str=input(\"Enter string:\")\n",
    "l=len(str)\n",
    "for i in range(l,0,-1):\n",
    "    for s in range(1,l-i+1,1):\n",
    "        print(\" \",end=\"\")\n",
    "    for j in range(1,i+1,1):\n",
    "        print(str[i-j],end=\"\")\n",
    "    print()"
   ]
  },
  {
   "cell_type": "code",
   "execution_count": 171,
   "id": "6837ac54",
   "metadata": {},
   "outputs": [
    {
     "name": "stdout",
     "output_type": "stream",
     "text": [
      "Enter string:python\n",
      "nnnnnn\n",
      " ooooo\n",
      "  hhhh\n",
      "   ttt\n",
      "    yy\n",
      "     p\n"
     ]
    }
   ],
   "source": [
    "str=input(\"Enter string:\")\n",
    "l=len(str)\n",
    "for i in range(l,0,-1):\n",
    "    for s in range(1,l-i+1,1):\n",
    "        print(\" \",end=\"\")\n",
    "    for j in range(1,i+1,1):\n",
    "        print(str[i-1],end=\"\")\n",
    "    print()"
   ]
  },
  {
   "cell_type": "markdown",
   "id": "a5adee76",
   "metadata": {},
   "source": [
    "## Number Pattern"
   ]
  },
  {
   "cell_type": "markdown",
   "id": "c28f3353",
   "metadata": {},
   "source": [
    "15\n",
    "14 13\n",
    "12 11 10\n",
    "9  8  7  6\n",
    "5  4  3  2  1"
   ]
  },
  {
   "cell_type": "code",
   "execution_count": 15,
   "id": "5ef89855",
   "metadata": {},
   "outputs": [
    {
     "name": "stdout",
     "output_type": "stream",
     "text": [
      "5\n",
      "15 \n",
      "14 13 \n",
      "12 11 10 \n",
      "9  8  7  6  \n",
      "5  4  3  2  1  \n"
     ]
    }
   ],
   "source": [
    "n= int(input())\n",
    "\n",
    "m=0\n",
    "for x in range(1,n+1):\n",
    "    m=m+x\n",
    "    \n",
    "for i in range(1,n+1):\n",
    "    for j in range(1,i+1):\n",
    "        print(format(m,\"<3\"),end=\"\")\n",
    "        m-=1\n",
    "    print()"
   ]
  },
  {
   "cell_type": "markdown",
   "id": "08d91c7b",
   "metadata": {},
   "source": []
  },
  {
   "cell_type": "code",
   "execution_count": 61,
   "id": "1e82538a",
   "metadata": {},
   "outputs": [
    {
     "name": "stdout",
     "output_type": "stream",
     "text": [
      "6\n",
      "                    *    1   \n",
      "                *   *    2   3   \n",
      "            *   *   *    3   4   5   \n",
      "        *   *   *   *    4   5   6   7   \n",
      "    *   *   *   *   *    5   6   7   8   9   \n",
      "*   *   *   *   *   *    6   7   8   9   10  11  \n",
      "6   5   4   3   2   1    1   3   5   7   9   11  \n",
      "    6   5   4   3   2    3   5   7   9   11  \n",
      "        6   5   4   3    5   7   9   11  \n",
      "            6   5   4    7   9   11  \n",
      "                6   5    9   11  \n",
      "                    6    11  \n"
     ]
    }
   ],
   "source": [
    "n= int(input())\n",
    "    \n",
    "for i in range(1,n+1):\n",
    "    m=i\n",
    "    for s in range(1,n-i+1):\n",
    "        print(format(\" \",\"<3\"),end=\" \")\n",
    "    for j in range(1,i+1):\n",
    "        print(format(\"*\",\"<3\"),end=\" \")\n",
    "    print(end=\" \")\n",
    "    for k in range(1,i+1):\n",
    "        print(format(m,\"<3\"),end=\" \")\n",
    "        m=m+1\n",
    "    print()\n",
    "    \n",
    "for i in range(1,n+1):\n",
    "    m=n\n",
    "    num=(2*i-1)\n",
    "    for s in range(1,i,1):\n",
    "        print(format(\" \",\"<3\"),end=\" \")\n",
    "    for j in range(1,n-i+2):\n",
    "        print(format(m,\"<3\"),end=\" \")\n",
    "        m-=1\n",
    "    print(end=\" \")\n",
    "    for x in range(1,n-i+2):\n",
    "        print(format(num,\"<3\"),end=\" \")\n",
    "        num=num+2\n",
    "    print()\n",
    "        "
   ]
  },
  {
   "cell_type": "code",
   "execution_count": null,
   "id": "1def8b18",
   "metadata": {},
   "outputs": [],
   "source": []
  }
 ],
 "metadata": {
  "kernelspec": {
   "display_name": "Python 3 (ipykernel)",
   "language": "python",
   "name": "python3"
  },
  "language_info": {
   "codemirror_mode": {
    "name": "ipython",
    "version": 3
   },
   "file_extension": ".py",
   "mimetype": "text/x-python",
   "name": "python",
   "nbconvert_exporter": "python",
   "pygments_lexer": "ipython3",
   "version": "3.9.13"
  }
 },
 "nbformat": 4,
 "nbformat_minor": 5
}
